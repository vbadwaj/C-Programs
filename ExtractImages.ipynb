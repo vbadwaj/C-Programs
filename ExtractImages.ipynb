{
  "nbformat": 4,
  "nbformat_minor": 0,
  "metadata": {
    "colab": {
      "name": "ExtractImages",
      "provenance": [],
      "authorship_tag": "ABX9TyOWYsK3ZzPiYDOjzagJES5S",
      "include_colab_link": true
    },
    "kernelspec": {
      "name": "python3",
      "display_name": "Python 3"
    },
    "language_info": {
      "name": "python"
    }
  },
  "cells": [
    {
      "cell_type": "markdown",
      "metadata": {
        "id": "view-in-github",
        "colab_type": "text"
      },
      "source": [
        "<a href=\"https://colab.research.google.com/github/vbadwaj/C-Programs/blob/main/ExtractImages.ipynb\" target=\"_parent\"><img src=\"https://colab.research.google.com/assets/colab-badge.svg\" alt=\"Open In Colab\"/></a>"
      ]
    },
    {
      "cell_type": "code",
      "metadata": {
        "colab": {
          "base_uri": "https://localhost:8080/"
        },
        "id": "K3W2ASjrmk96",
        "outputId": "c82f57e0-8846-4c1c-ca90-604b2b39a4b5"
      },
      "source": [
        "!pip install PyMuPDF Pillow"
      ],
      "execution_count": 2,
      "outputs": [
        {
          "output_type": "stream",
          "text": [
            "Collecting PyMuPDF\n",
            "\u001b[?25l  Downloading https://files.pythonhosted.org/packages/ef/43/84a502a902f5045108b6264a054ea1b50b479f247879c7a66c0d190be44e/PyMuPDF-1.18.14-cp37-cp37m-manylinux2010_x86_64.whl (6.4MB)\n",
            "\u001b[K     |████████████████████████████████| 6.4MB 5.8MB/s \n",
            "\u001b[?25hRequirement already satisfied: Pillow in /usr/local/lib/python3.7/dist-packages (7.1.2)\n",
            "Installing collected packages: PyMuPDF\n",
            "Successfully installed PyMuPDF-1.18.14\n"
          ],
          "name": "stdout"
        }
      ]
    },
    {
      "cell_type": "code",
      "metadata": {
        "id": "gXEcRK3-mnQ7"
      },
      "source": [
        "import fitz"
      ],
      "execution_count": 3,
      "outputs": []
    },
    {
      "cell_type": "code",
      "metadata": {
        "colab": {
          "base_uri": "https://localhost:8080/"
        },
        "id": "RkmAWyqWn2Xf",
        "outputId": "7793f6ef-0018-4784-a22a-c22b6bbd2ab2"
      },
      "source": [
        "#opeing the file\n",
        "file_path = input(\"Enter the PDF file path\")\n",
        "pdf_file = fitz.open(file_path)\n",
        "\n",
        "#Reading the location where to save the file\n",
        "location = input(\"Enter the location to save: \")\n",
        "\n",
        "#finding number of pages in the pdf\n",
        "number_of_pages = len(pdf_file)\n",
        "\n",
        "#iterating through each page in the pdf\n",
        "for current_page_index in range(number_of_pages):\n",
        "  #iterating through each image in every page of PDF\n",
        "  for img_index,img in enumerate(pdf_file.getPageImageList(current_page_index)):\n",
        "        xref = img[0]\n",
        "        image = fitz.Pixmap(pdf_file, xref)\n",
        "        #if it is a is GRAY or RGB image\n",
        "        if image.n < 5:        \n",
        "            image.writePNG(\"{}/image{}-{}.png\".format(location,current_page_index, img_index))\n",
        "        #if it is CMYK: convert to RGB first\n",
        "        else:                \n",
        "            new_image = fitz.Pixmap(fitz.csRGB, image)\n",
        "            new_image.writePNG(\"{}/image{}-{}.png\".foramt(location,current_page_index, img_index))"
      ],
      "execution_count": 4,
      "outputs": [
        {
          "output_type": "stream",
          "text": [
            "Enter the PDF file path/content/3081-ML-Week_11.pdf\n",
            "Enter the location to save: /content/sample_data\n"
          ],
          "name": "stdout"
        }
      ]
    },
    {
      "cell_type": "code",
      "metadata": {
        "id": "oWqQYa3In73T",
        "colab": {
          "base_uri": "https://localhost:8080/",
          "height": 129
        },
        "outputId": "8dd5f4e7-62a0-49fb-f937-91600cd727da"
      },
      "source": [
        "pdftk sample.pdf output uncompressed.pdf uncompress"
      ],
      "execution_count": 5,
      "outputs": [
        {
          "output_type": "error",
          "ename": "SyntaxError",
          "evalue": "ignored",
          "traceback": [
            "\u001b[0;36m  File \u001b[0;32m\"<ipython-input-5-77c5e32e517a>\"\u001b[0;36m, line \u001b[0;32m1\u001b[0m\n\u001b[0;31m    pdftk sample.pdf output uncompressed.pdf uncompress\u001b[0m\n\u001b[0m               ^\u001b[0m\n\u001b[0;31mSyntaxError\u001b[0m\u001b[0;31m:\u001b[0m invalid syntax\n"
          ]
        }
      ]
    },
    {
      "cell_type": "code",
      "metadata": {
        "id": "ttUOQWUaJvpP"
      },
      "source": [
        ""
      ],
      "execution_count": null,
      "outputs": []
    }
  ]
}